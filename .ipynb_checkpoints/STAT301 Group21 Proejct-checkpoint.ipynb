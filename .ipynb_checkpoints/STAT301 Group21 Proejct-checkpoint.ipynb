{
 "cells": [
  {
   "cell_type": "code",
   "execution_count": null,
   "id": "6f11545b-f53a-4cd6-95e8-844b3b0ff30f",
   "metadata": {},
   "outputs": [],
   "source": [
    "Hello World"
   ]
  }
 ],
 "metadata": {
  "kernelspec": {
   "display_name": "",
   "name": ""
  },
  "language_info": {
   "name": ""
  }
 },
 "nbformat": 4,
 "nbformat_minor": 5
}
